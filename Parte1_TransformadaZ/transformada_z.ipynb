import numpy as np
import matplotlib.pyplot as plt
from scipy import signal

# Sistema exemplo: H(z) = 1 / (1 - 0.5z^-1)
b = [1]      # Numerador
a = [1, -0.5]  # Denominador

# Resposta ao impulso
imp = np.zeros(50)
imp[0] = 1
h = signal.lfilter(b, a, imp)

plt.stem(np.arange(50), h, use_line_collection=True)
plt.title("Resposta ao Impulso do Sistema H(z) = 1 / (1 - 0.5z⁻¹)")
plt.xlabel("n")
plt.ylabel("h[n]")
plt.grid(True)
plt.show()

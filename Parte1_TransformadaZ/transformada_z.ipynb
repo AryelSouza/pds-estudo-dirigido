# Parte 1 - Transformada-Z: Simulação da resposta ao impulso

import numpy as np
import matplotlib.pyplot as plt
from scipy import signal

# Definição do sistema: H(z) = 1 / (1 - 0.5z^-1)
b = [1]        # Numerador
a = [1, -0.5]  # Denominador

# Sinal impulso
imp = np.zeros(50)
imp[0] = 1

# Resposta ao impulso do sistema
h = signal.lfilter(b, a, imp)

# Plot da resposta ao impulso
plt.figure(figsize=(10, 4))
plt.stem(np.arange(50), h)
plt.title("Resposta ao Impulso do Sistema H(z) = 1 / (1 - 0.5z⁻¹)")
plt.xlabel("n")
plt.ylabel("h[n]")
plt.grid(True)
plt.show()
